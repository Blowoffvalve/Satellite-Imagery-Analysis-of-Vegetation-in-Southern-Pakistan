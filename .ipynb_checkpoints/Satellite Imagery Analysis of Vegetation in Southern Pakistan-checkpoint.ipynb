{
 "cells": [
  {
   "cell_type": "markdown",
   "metadata": {},
   "source": [
    "# Objective"
   ]
  },
  {
   "cell_type": "markdown",
   "metadata": {},
   "source": [
    "In this notebook, we shall study how we can examine the vegetation cover of a region with the help of satellite data. This notebook aims to familiarise with the concept of satellite imagery data and how it can be analyzed to investigate real-world environmental and humanitarian challenges."
   ]
  },
  {
   "cell_type": "markdown",
   "metadata": {},
   "source": [
    "# Region of Interest"
   ]
  },
  {
   "cell_type": "markdown",
   "metadata": {},
   "source": [
    "I was particularly interested in knowing about the vegetation density in Southern Pakistan . Therefore, the dataset in this article pertains to that area. However, the analysis would remain the same for any area in the world.\n",
    "\n",
    "![](area_of_interest.png)\n"
   ]
  },
  {
   "cell_type": "markdown",
   "metadata": {},
   "source": [
    "# Satellite Imagery: An Overview"
   ]
  },
  {
   "cell_type": "markdown",
   "metadata": {},
   "source": [
    "Satellite Imagery is the image of Earth(or other planets) which are collected by imaging satellites. Governments or private firms may own these Satellites. Satellite imaging companies sell images by licensing them to governments and businesses such as Apple Maps and Google Maps."
   ]
  },
  {
   "cell_type": "markdown",
   "metadata": {},
   "source": [
    "# Getting the Data"
   ]
  },
  {
   "cell_type": "markdown",
   "metadata": {},
   "source": [
    "For this particular case study, we will be working with the Surface Reflectance (SR) Data. Simply put, the SR data is that satellite data which has been algorithmically corrected to remove any interference from the atmosphere. Let’s search & download some imagery of area around southern Pakistan.\n",
    "\n",
    "The data used in this exercise has been downloaded from Planet Explorer. Planet Explorer is a product of Product labs and is used to explore daily imagery right in our browser. Planet labs operate the largest fleet of Earth-imaging satellites, and the data provided by them is used for monitoring vegetation to measuring agriculture outputs."
   ]
  },
  {
   "cell_type": "markdown",
   "metadata": {},
   "source": [
    "# Imports"
   ]
  },
  {
   "cell_type": "code",
   "execution_count": null,
   "metadata": {},
   "outputs": [],
   "source": [
    "import os\n",
    "import math\n",
    "import json\n",
    "import numpy\n",
    "import requests\n",
    "import rasterio\n",
    "from matplotlib import colors\n",
    "import matplotlib.pyplot as plt\n",
    "from clint.textui import progress\n",
    "from requests.auth import HTTPBasicAuth"
   ]
  },
  {
   "cell_type": "markdown",
   "metadata": {},
   "source": [
    "# Downloading satellite images from Planet"
   ]
  },
  {
   "cell_type": "markdown",
   "metadata": {},
   "source": [
    "## Our coordinates data of our area of interest"
   ]
  },
  {
   "cell_type": "markdown",
   "metadata": {},
   "source": [
    "This can be obtained from http://geojson.io"
   ]
  },
  {
   "cell_type": "code",
   "execution_count": null,
   "metadata": {},
   "outputs": [],
   "source": [
    "geojson_geometry = {\n",
    "    \"type\": \"Polygon\",\n",
    "    \"coordinates\": [\n",
    "      [\n",
    "        [\n",
    "          72.47406005859375,\n",
    "          31.276203454458123\n",
    "        ],\n",
    "        [\n",
    "          74.46807861328125,\n",
    "          31.276203454458123\n",
    "        ],\n",
    "        [\n",
    "          74.46807861328125,\n",
    "          32.27087780256757\n",
    "        ],\n",
    "        [\n",
    "          72.47406005859375,\n",
    "          32.27087780256757\n",
    "        ],\n",
    "        [\n",
    "          72.47406005859375,\n",
    "          31.276203454458123\n",
    "        ]\n",
    "      ]\n",
    "    ]\n",
    "}"
   ]
  },
  {
   "cell_type": "markdown",
   "metadata": {},
   "source": [
    "## Filters for downloading satellite images"
   ]
  },
  {
   "cell_type": "code",
   "execution_count": null,
   "metadata": {},
   "outputs": [],
   "source": [
    "# get images that overlap with our AOI \n",
    "geometry_filter = {\n",
    "  \"type\": \"GeometryFilter\",\n",
    "  \"field_name\": \"geometry\",\n",
    "  \"config\": geojson_geometry\n",
    "}\n",
    "\n",
    "# get images acquired within a date range\n",
    "date_range_filter = {\n",
    "  \"type\": \"DateRangeFilter\",\n",
    "  \"field_name\": \"acquired\",\n",
    "  \"config\": {\n",
    "    \"gte\": \"2016-08-31T00:00:00.000Z\",\n",
    "    \"lte\": \"2016-09-01T00:00:00.000Z\"\n",
    "  }\n",
    "}\n",
    "\n",
    "# only get images which have <50% cloud coverage\n",
    "cloud_cover_filter = {\n",
    "  \"type\": \"RangeFilter\",\n",
    "  \"field_name\": \"cloud_cover\",\n",
    "  \"config\": {\n",
    "    \"lte\": 0.5\n",
    "  }\n",
    "}\n",
    "\n",
    "# combine our geo, date, cloud filters\n",
    "combined_filter = {\n",
    "  \"type\": \"AndFilter\",\n",
    "  \"config\": [geometry_filter, date_range_filter, cloud_cover_filter]\n",
    "}"
   ]
  },
  {
   "cell_type": "code",
   "execution_count": null,
   "metadata": {},
   "outputs": [],
   "source": [
    "PLANET_API_KEY = \"PL_API_KEY\" # replace PL_API_KEY with Planet API key in quotes\n",
    "\n",
    "item_type = \"PSScene4Band\"\n",
    "\n",
    "# API request object\n",
    "search_request = {\n",
    "  \"interval\": \"day\",\n",
    "  \"item_types\": [item_type], \n",
    "  \"filter\": combined_filter\n",
    "}\n",
    "\n",
    "# fire off the POST request\n",
    "search_result = \\\n",
    "  requests.post(\n",
    "    'https://api.planet.com/data/v1/quick-search',\n",
    "    auth=HTTPBasicAuth(PLANET_API_KEY, ''),\n",
    "    json=search_request)\n",
    "\n",
    "print(json.dumps(search_result.json(), indent=1))"
   ]
  },
  {
   "cell_type": "markdown",
   "metadata": {},
   "source": [
    "## Downloading the Image"
   ]
  },
  {
   "cell_type": "code",
   "execution_count": null,
   "metadata": {},
   "outputs": [],
   "source": [
    "item_id = search_result.json()[\"features\"][0][\"id\"]\n",
    "\n",
    "session = requests.Session()\n",
    "session.auth = (PLANET_API_KEY, '')\n",
    "\n",
    "item = \\\n",
    "  session.get(\n",
    "    (\"https://api.planet.com/data/v1/item-types/\" +\n",
    "    \"{}/items/{}/assets/\").format(item_type, item_id))\n",
    "\n",
    "links = item.json()[u\"analytic\"][\"_links\"]\n",
    "self_link = links[\"_self\"]\n",
    "activation_link = links[\"activate\"]"
   ]
  },
  {
   "cell_type": "code",
   "execution_count": null,
   "metadata": {},
   "outputs": [],
   "source": [
    "# Request activation of the 'analytic' asset:\n",
    "activate_result = session.get(activation_link)\n",
    "  \n",
    "activation_status_result = session.get(self_link)\n",
    "    \n",
    "print(activation_status_result.json()[\"status\"])"
   ]
  },
  {
   "cell_type": "markdown",
   "metadata": {},
   "source": [
    "When the activation status changes to “active” from “inactive”,”we can download the image in .tiff format."
   ]
  },
  {
   "cell_type": "code",
   "execution_count": null,
   "metadata": {},
   "outputs": [],
   "source": [
    "download_link = activation_status_result.json()[\"location\"]\n",
    "print(download_link)"
   ]
  },
  {
   "cell_type": "markdown",
   "metadata": {},
   "source": [
    "# Exploring the Satellite Imagery"
   ]
  },
  {
   "cell_type": "markdown",
   "metadata": {},
   "source": [
    "The python’s Rasterio library makes it very easy to explore satellite images. Satellite Images are nothing but grids of pixel-values and hence can be interpreted as multidimensional arrays."
   ]
  },
  {
   "cell_type": "markdown",
   "metadata": {},
   "source": [
    "## Importing Image"
   ]
  },
  {
   "cell_type": "code",
   "execution_count": null,
   "metadata": {},
   "outputs": [],
   "source": [
    "image_file = \"image.tif\"\n",
    "sat_data = rasterio.open(image_file)"
   ]
  },
  {
   "cell_type": "markdown",
   "metadata": {},
   "source": [
    "## Calculating the dimensions of the image on earth in metres"
   ]
  },
  {
   "cell_type": "code",
   "execution_count": null,
   "metadata": {},
   "outputs": [],
   "source": [
    "width_in_projected_units = sat_data.bounds.right - sat_data.bounds.left\n",
    "height_in_projected_units = sat_data.bounds.top - sat_data.bounds.bottom\n",
    "\n",
    "print(\"Width: {}, Height: {}\".format(width_in_projected_units, height_in_projected_units))"
   ]
  },
  {
   "cell_type": "markdown",
   "metadata": {},
   "source": [
    "## Rows and Columns"
   ]
  },
  {
   "cell_type": "code",
   "execution_count": null,
   "metadata": {},
   "outputs": [],
   "source": [
    "print(\"Rows: {}, Columns: {}\".format(sat_data.height, sat_data.width))"
   ]
  },
  {
   "cell_type": "markdown",
   "metadata": {},
   "source": [
    "## Converting the pixel co-ordinates to longitudes and latitudes"
   ]
  },
  {
   "cell_type": "code",
   "execution_count": null,
   "metadata": {},
   "outputs": [],
   "source": [
    "# Upper left pixel\n",
    "row_min = 0\n",
    "col_min = 0\n",
    "\n",
    "# Lower right pixel.  Rows and columns are zero indexing.\n",
    "row_max = sat_data.height - 1\n",
    "col_max = sat_data.width - 1\n",
    "\n",
    "# Transform coordinates with the dataset's affine transformation.\n",
    "topleft = sat_data.transform * (row_min, col_min)\n",
    "botright = sat_data.transform * (row_max, col_max)\n",
    "\n",
    "print(\"Top left corner coordinates: {}\".format(topleft))\n",
    "print(\"Bottom right corner coordinates: {}\".format(botright))"
   ]
  },
  {
   "cell_type": "markdown",
   "metadata": {},
   "source": [
    "# Bands"
   ]
  },
  {
   "cell_type": "markdown",
   "metadata": {},
   "source": [
    "The image that we are inspecting is a multispectral image consisting of 4 bands int he order B,G,R,N where N stands for near infrared.each band is stored as a numpy array."
   ]
  },
  {
   "cell_type": "code",
   "execution_count": null,
   "metadata": {},
   "outputs": [],
   "source": [
    "print(sat_data.count)\n",
    "\n",
    "# sequence of band indexes\n",
    "print(sat_data.indexes)"
   ]
  },
  {
   "cell_type": "markdown",
   "metadata": {},
   "source": [
    "# Visualising the Satellite Imagery"
   ]
  },
  {
   "cell_type": "code",
   "execution_count": null,
   "metadata": {},
   "outputs": [],
   "source": [
    "# Load the 4 bands into 2d arrays - recall that we previously learned PlanetScope band order is BGRN.\n",
    "b, g, r, n = sat_data.read()"
   ]
  },
  {
   "cell_type": "code",
   "execution_count": null,
   "metadata": {},
   "outputs": [],
   "source": [
    "# Displaying the blue band.\n",
    "\n",
    "fig = plt.imshow(b)\n",
    "plt.show()"
   ]
  },
  {
   "cell_type": "code",
   "execution_count": null,
   "metadata": {},
   "outputs": [],
   "source": [
    "# Displaying the green band.\n",
    "\n",
    "fig = plt.imshow(g)\n",
    "fig.set_cmap('gist_earth')\n",
    "plt.show()"
   ]
  },
  {
   "cell_type": "code",
   "execution_count": null,
   "metadata": {},
   "outputs": [],
   "source": [
    "# Displaying the red band.\n",
    "\n",
    "fig = plt.imshow(r)\n",
    "fig.set_cmap('inferno')\n",
    "plt.colorbar()\n",
    "plt.show()"
   ]
  },
  {
   "cell_type": "code",
   "execution_count": null,
   "metadata": {},
   "outputs": [],
   "source": [
    "# Displaying the infrared band.\n",
    "\n",
    "fig = plt.imshow(n)\n",
    "fig.set_cmap('winter')\n",
    "plt.colorbar()\n",
    "plt.show()"
   ]
  },
  {
   "cell_type": "markdown",
   "metadata": {},
   "source": [
    "# Vegetation Index calculation from Satellite Imagery"
   ]
  },
  {
   "cell_type": "markdown",
   "metadata": {},
   "source": [
    "\n",
    "Figure showing the changes in NDVI with the changing seasons.\n",
    "![Figure showing the changes in NDVI with the changing seasons.](1_lnpMpXnN2R_nBbnVYedrdQ.gif)\n"
   ]
  },
  {
   "cell_type": "markdown",
   "metadata": {},
   "source": [
    "## Vegetation Index"
   ]
  },
  {
   "cell_type": "markdown",
   "metadata": {},
   "source": [
    "A vegetation index is an indicator of the greenness of any area. It is a measure to monitor the health of a vegetation. A variety of data is captured by satellite sensors and one such type of data specifically measures wavelengths of light absorbed and reflected by green plants.\n",
    "\n",
    "Dense vegetation reflects a lot of near-infrared light(not visible to the human eye) as compared to the visible red light. The reverse happens in case of sparse vegetation. Thus, as a plant canopy changes from early spring growth to late-season maturity and senescence, these reflectance properties also change."
   ]
  },
  {
   "cell_type": "markdown",
   "metadata": {},
   "source": [
    "## NDVI"
   ]
  },
  {
   "cell_type": "markdown",
   "metadata": {},
   "source": [
    "One of the most widely used index to measure vegetation is the Normalized Difference Vegetation Index (NDVI). the NDVI values range from +1.0 to -1.0. It was developed by NASA scientist Compton Tucker in 1977 and is derived from satellite imagery. It can be expressed as follows.\n",
    "\n",
    "![NDVI](ndvi.png)\n",
    "\n",
    "NDVI compares the reflected near-infrared light to reflected visible red light, by the plants.\n",
    "\n",
    "![NDVI](comparison.png)"
   ]
  },
  {
   "cell_type": "markdown",
   "metadata": {},
   "source": [
    "## Benefits of NDVI "
   ]
  },
  {
   "cell_type": "markdown",
   "metadata": {},
   "source": [
    "1. The NDVI values give a rough estimation of the type, amount and condition of a vegetation at a place which is very useful fo researchers.\n",
    "2. NDVI values can also be averaged over time to establish “normal” growing conditions in a region for a given time of year. This primarily helps in identifying areas where there are changes in vegetation due to human activities such as deforestation, natural disturbances such as wildfires, or changes in plants’ phenological stage."
   ]
  },
  {
   "cell_type": "markdown",
   "metadata": {},
   "source": [
    "## Calculating NDVI for our Area of Interest"
   ]
  },
  {
   "cell_type": "markdown",
   "metadata": {},
   "source": [
    "We already have our downloaded data in the form of a .tiff image. In this section, we shall calculate and NDVI index and analyse it."
   ]
  },
  {
   "cell_type": "markdown",
   "metadata": {},
   "source": [
    "### Extracting the data from the red and near-infrared bands"
   ]
  },
  {
   "cell_type": "code",
   "execution_count": null,
   "metadata": {},
   "outputs": [],
   "source": [
    "filename = 'image.tif'\n",
    "with rasterio.open(filename) as src:\n",
    "    band_red = src.read(3)\n",
    "with rasterio.open(filename) as src:\n",
    "    band_nir = src.read(4)"
   ]
  },
  {
   "cell_type": "markdown",
   "metadata": {},
   "source": [
    "### Calculating NDVI"
   ]
  },
  {
   "cell_type": "code",
   "execution_count": null,
   "metadata": {},
   "outputs": [],
   "source": [
    "# Do not display error when divided by zero \n",
    "\n",
    "numpy.seterr(divide='ignore', invalid='ignore')\n",
    "\n",
    "# NDVI \n",
    "ndvi = (band_nir.astype(float) - band_red.astype(float)) / (band_nir + band_red)"
   ]
  },
  {
   "cell_type": "markdown",
   "metadata": {},
   "source": [
    "### Checking the range of NDVI values(excluding NaN)"
   ]
  },
  {
   "cell_type": "markdown",
   "metadata": {},
   "source": [
    "Let's print the minimum and maximum values in our calculated ndvi. Because we're using the NDVI formula to normalize the input bands, we know that our expected values should fall within -1.0 to +1.0."
   ]
  },
  {
   "cell_type": "code",
   "execution_count": null,
   "metadata": {},
   "outputs": [],
   "source": [
    "print(numpy.nanmin(ndvi)) \n",
    "print(numpy.nanmax(ndvi))"
   ]
  },
  {
   "cell_type": "markdown",
   "metadata": {},
   "source": [
    "### Saving the NDVI image"
   ]
  },
  {
   "cell_type": "markdown",
   "metadata": {},
   "source": [
    "We will save the results to a new single band image. This new image file will use the geospatial data rom the original geotiff image."
   ]
  },
  {
   "cell_type": "code",
   "execution_count": null,
   "metadata": {},
   "outputs": [],
   "source": [
    "# get the metadata of original GeoTIFF:\n",
    "meta = src.meta\n",
    "print(meta)\n",
    "\n",
    "# get the dtype of our NDVI array:\n",
    "ndvi_dtype = ndvi.dtype\n",
    "print(ndvi_dtype)\n",
    "\n",
    "# set the source metadata as kwargs we'll use to write the new data:\n",
    "kwargs = meta\n",
    "\n",
    "# update the 'dtype' value to match our NDVI array's dtype:\n",
    "kwargs.update(dtype=ndvi_dtype)\n",
    "\n",
    "# update the 'count' value since our output will no longer be a 4-band image:\n",
    "kwargs.update(count=1)\n",
    "\n",
    "# Finally, use rasterio to write new raster file 'data/ndvi.tif':\n",
    "with rasterio.open('ndvi.tif', 'w', **kwargs) as dst:\n",
    "        dst.write(ndvi, 1)"
   ]
  },
  {
   "cell_type": "markdown",
   "metadata": {},
   "source": [
    "### Applying a color scheme to visualize the NDVI values on the new image"
   ]
  },
  {
   "cell_type": "markdown",
   "metadata": {},
   "source": [
    "The values in our NDVI will range from -1 to 1. To best visualize this, we want to use a diverging color scheme, and we want to center the colorbar at a defined midpoint."
   ]
  },
  {
   "cell_type": "code",
   "execution_count": null,
   "metadata": {},
   "outputs": [],
   "source": [
    "class MidpointNormalize(colors.Normalize):\n",
    "   \n",
    "    def __init__(self, vmin=None, vmax=None, midpoint=None, clip=False):\n",
    "        self.midpoint = midpoint\n",
    "        colors.Normalize.__init__(self, vmin, vmax, clip)\n",
    "\n",
    "    def __call__(self, value, clip=None):\n",
    "       \n",
    "        x, y = [self.vmin, self.midpoint, self.vmax], [0, 0.5, 1]\n",
    "        return numpy.ma.masked_array(numpy.interp(value, x, y), numpy.isnan(value))"
   ]
  },
  {
   "cell_type": "markdown",
   "metadata": {},
   "source": [
    "### Interpretation of NDVI"
   ]
  },
  {
   "cell_type": "code",
   "execution_count": null,
   "metadata": {},
   "outputs": [],
   "source": [
    "# Set min/max values from NDVI range for image\n",
    "\n",
    "min=numpy.nanmin(ndvi)\n",
    "max=numpy.nanmax(ndvi)\n",
    "\n",
    "# Set our custom midpoint for most effective NDVI analysis\n",
    "mid=0.1\n",
    "\n",
    "# Setting color scheme ref:https://matplotlib.org/users/colormaps.html as a reference\n",
    "colormap = plt.cm.RdYlGn \n",
    "norm = MidpointNormalize(vmin=min, vmax=max, midpoint=mid)\n",
    "fig = plt.figure(figsize=(20,10))\n",
    "\n",
    "\n",
    "ax = fig.add_subplot(111)\n",
    "\n",
    "# Use 'imshow' to specify the input data, colormap, min, max, and norm for the colorbar\n",
    "cbar_plot = ax.imshow(ndvi, cmap=colormap, vmin=min, vmax=max, norm=norm)\n",
    "\n",
    "\n",
    "# Turn off the display of axis labels \n",
    "ax.axis('off')\n",
    "\n",
    "# Set a title \n",
    "ax.set_title('Normalized Difference Vegetation Index', fontsize=17, fontweight='bold')\n",
    "\n",
    "# Configure the colorbar\n",
    "cbar = fig.colorbar(cbar_plot, orientation='horizontal', shrink=0.65)\n",
    "\n",
    "# Call 'savefig' to save this plot to an image file\n",
    "fig.savefig(\"ndvi-image.png\", dpi=200, bbox_inches='tight', pad_inches=0.7)\n",
    "\n",
    "# let's visualize\n",
    "plt.show()"
   ]
  },
  {
   "cell_type": "markdown",
   "metadata": {},
   "source": [
    "### Generating a histogram of NDVI values"
   ]
  },
  {
   "cell_type": "markdown",
   "metadata": {},
   "source": [
    "A Histogram or any other chart can be useful for quick analysis by giving a visual insight into the distribution of \"healthy\" vs \"unhealthy\" vegetation values in your study area."
   ]
  },
  {
   "cell_type": "code",
   "execution_count": null,
   "metadata": {},
   "outputs": [],
   "source": [
    "# Define a new figure\n",
    "fig2 = plt.figure(figsize=(20,10))\n",
    "\n",
    "# Give this new figure a subplot, which will contain the histogram itself\n",
    "ax = fig2.add_subplot(111)\n",
    "\n",
    "# Add a title & (x,y) labels to the plot\n",
    "plt.title(\"NDVI Histogram\", fontsize=18, fontweight='bold')\n",
    "plt.xlabel(\"NDVI values\", fontsize=14)\n",
    "plt.ylabel(\"Number of pixels\", fontsize=14)\n",
    "\n",
    "\n",
    "# For the x-axis, we want to count every pixel that is not an empty value\n",
    "x = ndvi[~numpy.isnan(ndvi)]\n",
    "color = 'g'\n",
    "# call 'hist` with our x-axis, bins, and color details\n",
    "ax.hist(x,bins=30,color=color,histtype='bar', ec='black')\n",
    "\n",
    "# Save the generated figure to an external image file\n",
    "#fig2.savefig(\"ndvi-histogram.png\", dpi=200, bbox_inches='tight', pad_inches=0.5)\n",
    "\n",
    "\n",
    "plt.show()"
   ]
  },
  {
   "cell_type": "markdown",
   "metadata": {},
   "source": [
    "# Conclusion"
   ]
  },
  {
   "cell_type": "markdown",
   "metadata": {},
   "source": [
    "The satellite imagery data can be analysed over a period of time to understand the causes of the decline in vegetation for a region. Similarly, the analysis can also enable us to point out if there has been severe deforestation in any area which might be leading to effects of global warming. Prediction of hurricanes, droughts and floods are other areas where analysis of satellite imagery is being extensively applied. There is no better way to use technology than to work on some real problems threatening the planet and being able to utilise data from the satellites is a step in that direction."
   ]
  }
 ],
 "metadata": {
  "kernelspec": {
   "display_name": "Python 3",
   "language": "python",
   "name": "python3"
  },
  "language_info": {
   "codemirror_mode": {
    "name": "ipython",
    "version": 3
   },
   "file_extension": ".py",
   "mimetype": "text/x-python",
   "name": "python",
   "nbconvert_exporter": "python",
   "pygments_lexer": "ipython3",
   "version": "3.6.7"
  }
 },
 "nbformat": 4,
 "nbformat_minor": 2
}
